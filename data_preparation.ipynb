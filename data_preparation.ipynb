{
 "cells": [
  {
   "cell_type": "code",
   "execution_count": 1,
   "metadata": {},
   "outputs": [],
   "source": [
    "import pandas as pd\n",
    "import os\n",
    "import glob"
   ]
  },
  {
   "cell_type": "code",
   "execution_count": 18,
   "metadata": {},
   "outputs": [],
   "source": [
    "# make an array of strings, which are the names of the tissues (all folders within data/tissues)\n",
    "# call the array tissues\n",
    "directory = 'data/cell_lines/'\n",
    "tissues = []\n",
    "for tissue in os.listdir(directory):\n",
    "    if not tissue.startswith('.'):\n",
    "        tissues.append(tissue)\n",
    "\n",
    "# make an array (of dataframes) called exp and another called peaks and store in them, respectively, \n",
    "# the tsv files and bed files in each folder within data/tissues\n",
    "exp = []\n",
    "peaks = []\n",
    "# the column headers of peaks\n",
    "peaks_headers = ['chr', 'start', 'end', 'name', 'score', 'strand', 'signalValue', 'pValue', 'qValue', 'peak']\n",
    "\n",
    "for tissue in tissues:\n",
    "\n",
    "    # get all the tsv files in the directory (there will be just the one)\n",
    "    tsv_files = glob.glob(directory + tissue + '/*.tsv')\n",
    "    for file in tsv_files:\n",
    "        tsv_name = file\n",
    "        # read the tsv file into a dataframe and append it to exp\n",
    "        exp_df = pd.read_csv(tsv_name, sep='\\t')\n",
    "        exp.append(exp_df)\n",
    "    \n",
    "    # get all the bed files in the directory (there will be just the one)\n",
    "    bed_files = glob.glob(directory + tissue + '/*.bed')\n",
    "    for file in bed_files:\n",
    "        bed_name = file\n",
    "        # read the bed file into a dataframe and append it to peaks\n",
    "        peaks_df = pd.read_csv(bed_name, sep='\\t', names=peaks_headers)\n",
    "        peaks.append(peaks_df)    "
   ]
  },
  {
   "cell_type": "code",
   "execution_count": 19,
   "metadata": {},
   "outputs": [],
   "source": [
    "# some parameters for the program\n",
    "# area of interest\n",
    "chr_num = 1\n",
    "aoi_start = 0\n",
    "aoi_end = 10000000\n",
    "bin_size = 1000\n",
    "\n",
    "# dependent variables\n",
    "aoi_chr = 'chr' + str(chr_num)"
   ]
  },
  {
   "cell_type": "code",
   "execution_count": 20,
   "metadata": {},
   "outputs": [],
   "source": [
    "# filtering on peaks\n",
    "# for each tissue, filter the peaks dataframe to only include peaks within the area of interest\n",
    "# and then filter the peaks dataframe to only include peaks with a score of at least 800\n",
    "\n",
    "# make an array called filtered_peaks\n",
    "filtered_peaks = []\n",
    "for i in range(len(peaks)):\n",
    "    # filter the peaks dataframe to only include peaks within the area of interest\n",
    "    filtered_peaks_df = peaks[i][(peaks[i]['chr'] == aoi_chr) & (peaks[i]['start'] >= aoi_start) & (peaks[i]['end'] <= aoi_end)]\n",
    "    # filter the peaks dataframe to only include peaks with a score of at least 800\n",
    "    filtered_peaks_df = filtered_peaks_df[filtered_peaks_df['score'] >= 800]\n",
    "    # append the filtered peaks dataframe to filtered_peaks\n",
    "    filtered_peaks.append(filtered_peaks_df)"
   ]
  },
  {
   "cell_type": "code",
   "execution_count": 21,
   "metadata": {},
   "outputs": [],
   "source": [
    "# using the area of interest to find the genes of interest\n",
    "# read the ensembl_genes.txt file into a dataframe\n",
    "genes_df = pd.read_csv('ensembl_genes.txt', sep='\\t')\n",
    "\n",
    "# filter the genes dataframe to only include genes within the area of interest\n",
    "genes_df = genes_df[(genes_df['Chromosome/scaffold name'] == str(chr_num)) & (genes_df['Gene start (bp)'] >= aoi_start) & (genes_df['Gene end (bp)'] <= aoi_end)]"
   ]
  },
  {
   "cell_type": "code",
   "execution_count": 22,
   "metadata": {},
   "outputs": [],
   "source": [
    "# using the filtered genes_df, make a list of all the valid Gene stable ID versions\n",
    "gene_stable_ids = []\n",
    "for index, row in genes_df.iterrows():\n",
    "    gene_stable_ids.append(row['Gene stable ID version'])"
   ]
  },
  {
   "cell_type": "code",
   "execution_count": 23,
   "metadata": {},
   "outputs": [],
   "source": [
    "# for all the exp dataframes, filter them to only include rows with a gene_id in gene_stable_ids\n",
    "for i in range(len(exp)):\n",
    "    exp[i] = exp[i][exp[i]['gene_id'].isin(gene_stable_ids)]"
   ]
  },
  {
   "cell_type": "code",
   "execution_count": 24,
   "metadata": {},
   "outputs": [],
   "source": [
    "# make a 2d array, of size len(exp) x len(gene_stable_ids), called exp_output, intialized to all 0s\n",
    "exp_output = []\n",
    "for i in range(len(exp)):\n",
    "    exp_output.append([])\n",
    "    for j in range(len(gene_stable_ids)):\n",
    "        exp_output[i].append(0)\n",
    "\n",
    "# for each exp[i], for its genes, find the corresponding gene in gene_stable_ids and store the TPM value \n",
    "# for that gene in exp_output[i][j], where j is the index of the gene in gene_stable_ids\n",
    "for i in range(len(exp)):\n",
    "    for index, row in exp[i].iterrows():\n",
    "        gene_id = row['gene_id']\n",
    "        gene_index = gene_stable_ids.index(gene_id)\n",
    "        exp_output[i][gene_index] = row['TPM']"
   ]
  },
  {
   "cell_type": "code",
   "execution_count": 25,
   "metadata": {},
   "outputs": [],
   "source": [
    "# save the exp_output array as a csv file in prepared_data folder\n",
    "exp_output_df = pd.DataFrame(exp_output)\n",
    "exp_output_df.to_csv('prepared_data/exp_output.csv', index=False, header=False)"
   ]
  },
  {
   "cell_type": "code",
   "execution_count": 26,
   "metadata": {},
   "outputs": [],
   "source": [
    "# now for every df in the peaks array, make a column called 'mid' which is the midpoint of the peak\n",
    "for i in range(len(filtered_peaks)):\n",
    "    filtered_peaks[i]['mid'] = (filtered_peaks[i]['start'] + filtered_peaks[i]['end']) / 2\n",
    "\n",
    "# make a 2d array, of size len(filtered_peaks) x number of bins, called peaks_output, intialized to all 0s\n",
    "peaks_input = []\n",
    "num_bins = int((aoi_end - aoi_start) / bin_size)\n",
    "for i in range(len(filtered_peaks)):\n",
    "    peaks_input.append([])\n",
    "    for j in range(num_bins):\n",
    "        peaks_input[i].append(0)\n",
    "\n",
    "# for each filtered_peaks[i], for its peaks, find the corresponding bin in peaks_output[i] and make it 1\n",
    "for i in range(len(filtered_peaks)):\n",
    "    for index, row in filtered_peaks[i].iterrows():\n",
    "        mid = row['mid']\n",
    "        bin_index = int((mid - aoi_start) / bin_size)\n",
    "        peaks_input[i][bin_index] = 1"
   ]
  },
  {
   "cell_type": "code",
   "execution_count": 28,
   "metadata": {},
   "outputs": [],
   "source": [
    "# save the peaks_output array as a csv file in prepared_data folder\n",
    "peaks_input_df = pd.DataFrame(peaks_input)\n",
    "peaks_input_df.to_csv('prepared_data/peaks_input.csv', index=False, header=False)"
   ]
  }
 ],
 "metadata": {
  "kernelspec": {
   "display_name": "genomics",
   "language": "python",
   "name": "python3"
  },
  "language_info": {
   "codemirror_mode": {
    "name": "ipython",
    "version": 3
   },
   "file_extension": ".py",
   "mimetype": "text/x-python",
   "name": "python",
   "nbconvert_exporter": "python",
   "pygments_lexer": "ipython3",
   "version": "3.7.8"
  }
 },
 "nbformat": 4,
 "nbformat_minor": 2
}
